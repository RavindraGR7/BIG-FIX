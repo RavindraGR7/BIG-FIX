{
  "nbformat": 4,
  "nbformat_minor": 0,
  "metadata": {
    "colab": {
      "provenance": [],
      "authorship_tag": "ABX9TyMBxC/87Pt67G+OaEUQDJ7L",
      "include_colab_link": true
    },
    "kernelspec": {
      "name": "python3",
      "display_name": "Python 3"
    },
    "language_info": {
      "name": "python"
    }
  },
  "cells": [
    {
      "cell_type": "markdown",
      "metadata": {
        "id": "view-in-github",
        "colab_type": "text"
      },
      "source": [
        "<a href=\"https://colab.research.google.com/github/RavindraGR7/BIG-FIX/blob/main/Lab8_tej.ipynb\" target=\"_parent\"><img src=\"https://colab.research.google.com/assets/colab-badge.svg\" alt=\"Open In Colab\"/></a>"
      ]
    },
    {
      "cell_type": "code",
      "execution_count": 1,
      "metadata": {
        "id": "W-jmnK3Eelfg"
      },
      "outputs": [],
      "source": [
        "import sklearn.datasets as sk\n",
        "import sklearn.neighbors as kn\n",
        "(X,y) = sk.load_svmlight_file(\"colon_cancer_train_1.libsvm\")\n",
        "(X_test,y_test) = sk.load_svmlight_file(\"colon_cancer_test_1.libsvm\")\n",
        "knn_c = kn.KNeighborsClassifier(n_neighbors=3)\n",
        "knn_c.fit(X,y)\n",
        "acc = knn_c.score(X_test,y_test)"
      ]
    },
    {
      "cell_type": "markdown",
      "source": [
        "checking for accuracy\n"
      ],
      "metadata": {
        "id": "rcxgS_xzflac"
      }
    },
    {
      "cell_type": "code",
      "source": [
        "print(acc)"
      ],
      "metadata": {
        "colab": {
          "base_uri": "https://localhost:8080/"
        },
        "id": "ycUb4jPVflJB",
        "outputId": "0e1bfd21-b1a2-479e-9673-f6146f6968dc"
      },
      "execution_count": 2,
      "outputs": [
        {
          "output_type": "stream",
          "name": "stdout",
          "text": [
            "0.782608695652174\n"
          ]
        }
      ]
    },
    {
      "cell_type": "markdown",
      "source": [
        "Call the score() function over the training instances (X,y). What is the obtained accuracy?"
      ],
      "metadata": {
        "id": "L435DwGlgQIz"
      }
    },
    {
      "cell_type": "code",
      "source": [
        "import sklearn.datasets as sk\n",
        "import sklearn.neighbors as kn\n",
        "\n",
        "# Load the dataset\n",
        "(X, y) = sk.load_svmlight_file(\"colon_cancer_train_1.libsvm\")\n",
        "\n",
        "# KNN Classifier with n_neighbors=3\n",
        "knn_c = kn.KNeighborsClassifier(n_neighbors=3)\n",
        "\n",
        "# Fit the model on the training data\n",
        "knn_c.fit(X, y)\n",
        "\n",
        "# Calculate accuracy on the training data\n",
        "training_acc = knn_c.score(X, y)\n",
        "\n",
        "print(\"Accuracy on the training data:\", training_acc)\n"
      ],
      "metadata": {
        "colab": {
          "base_uri": "https://localhost:8080/"
        },
        "id": "7k3fl-l1gMLb",
        "outputId": "a9bf7089-2a89-45c5-c18d-85d2fd0bb71d"
      },
      "execution_count": 3,
      "outputs": [
        {
          "output_type": "stream",
          "name": "stdout",
          "text": [
            "Accuracy on the training data: 0.8205128205128205\n"
          ]
        }
      ]
    },
    {
      "cell_type": "code",
      "source": [
        "import sklearn.datasets as sk\n",
        "import sklearn.neighbors as kn\n",
        "from sklearn.model_selection import train_test_split\n",
        "\n",
        "# Load the dataset\n",
        "(X, y) = sk.load_svmlight_file(\"colon_cancer_train_1.libsvm\")\n",
        "X_dense = X.toarray()  # Convert to dense\n",
        "\n",
        "# Split the data for evaluation\n",
        "X_train, X_test, y_train, y_test = train_test_split(X_dense, y, test_size=0.2, random_state=42)\n",
        "\n",
        "n_neighbors = [3, 5, 7, 9, 11]\n",
        "metrics = sklearn.neighbors.VALID_METRICS['brute']\n",
        "metrics = [metric for metric in metrics if metric != \"precomputed\"]\n",
        "\n",
        "# Initialize variables to track the best performance\n",
        "best_test_accuracy = 0\n",
        "best_test_params = {'n_neighbors': None, 'metric': None}\n",
        "\n",
        "best_train_accuracy = 0\n",
        "best_train_params = {'n_neighbors': None, 'metric': None}\n",
        "\n",
        "for n in n_neighbors:\n",
        "    for m in metrics:\n",
        "        try:\n",
        "            knn_c = kn.KNeighborsClassifier(n_neighbors=n, metric=m)\n",
        "            knn_c.fit(X_train, y_train)\n",
        "\n",
        "            # Check accuracy on the training set\n",
        "            train_acc = knn_c.score(X_train, y_train)\n",
        "            if train_acc > best_train_accuracy:\n",
        "                best_train_accuracy = train_acc\n",
        "                best_train_params = {'n_neighbors': n, 'metric': m}\n",
        "\n",
        "            # Check accuracy on the test set\n",
        "            test_acc = knn_c.score(X_test, y_test)\n",
        "            if test_acc > best_test_accuracy:\n",
        "                best_test_accuracy = test_acc\n",
        "                best_test_params = {'n_neighbors': n, 'metric': m}\n",
        "\n",
        "        except Exception as e:\n",
        "            continue  # If a combination fails, continue to the next one\n",
        "\n",
        "# Output the results\n",
        "print(f\"Best Training Accuracy: {best_train_accuracy}, Parameters: {best_train_params}\")\n",
        "print(f\"Best Test Accuracy: {best_test_accuracy}, Parameters: {best_test_params}\")\n"
      ],
      "metadata": {
        "colab": {
          "base_uri": "https://localhost:8080/"
        },
        "id": "tCqcXbUlhDtp",
        "outputId": "9e784073-7b45-4352-b1e7-bf51675160a1"
      },
      "execution_count": 5,
      "outputs": [
        {
          "output_type": "stream",
          "name": "stderr",
          "text": [
            "/usr/local/lib/python3.10/dist-packages/sklearn/metrics/pairwise.py:2025: DataConversionWarning: Data was converted to boolean for metric dice\n",
            "  warnings.warn(msg, DataConversionWarning)\n",
            "/usr/local/lib/python3.10/dist-packages/sklearn/metrics/pairwise.py:2025: DataConversionWarning: Data was converted to boolean for metric dice\n",
            "  warnings.warn(msg, DataConversionWarning)\n",
            "/usr/local/lib/python3.10/dist-packages/sklearn/metrics/pairwise.py:2025: DataConversionWarning: Data was converted to boolean for metric jaccard\n",
            "  warnings.warn(msg, DataConversionWarning)\n",
            "/usr/local/lib/python3.10/dist-packages/sklearn/metrics/pairwise.py:2025: DataConversionWarning: Data was converted to boolean for metric jaccard\n",
            "  warnings.warn(msg, DataConversionWarning)\n",
            "/usr/local/lib/python3.10/dist-packages/sklearn/metrics/pairwise.py:2025: DataConversionWarning: Data was converted to boolean for metric kulsinski\n",
            "  warnings.warn(msg, DataConversionWarning)\n",
            "/usr/local/lib/python3.10/dist-packages/sklearn/metrics/pairwise.py:2025: DataConversionWarning: Data was converted to boolean for metric matching\n",
            "  warnings.warn(msg, DataConversionWarning)\n",
            "/usr/local/lib/python3.10/dist-packages/sklearn/metrics/pairwise.py:2025: DataConversionWarning: Data was converted to boolean for metric matching\n",
            "  warnings.warn(msg, DataConversionWarning)\n",
            "/usr/local/lib/python3.10/dist-packages/sklearn/metrics/pairwise.py:2025: DataConversionWarning: Data was converted to boolean for metric rogerstanimoto\n",
            "  warnings.warn(msg, DataConversionWarning)\n",
            "/usr/local/lib/python3.10/dist-packages/sklearn/metrics/pairwise.py:2025: DataConversionWarning: Data was converted to boolean for metric rogerstanimoto\n",
            "  warnings.warn(msg, DataConversionWarning)\n",
            "/usr/local/lib/python3.10/dist-packages/sklearn/metrics/pairwise.py:2025: DataConversionWarning: Data was converted to boolean for metric russellrao\n",
            "  warnings.warn(msg, DataConversionWarning)\n",
            "/usr/local/lib/python3.10/dist-packages/sklearn/metrics/pairwise.py:2025: DataConversionWarning: Data was converted to boolean for metric russellrao\n",
            "  warnings.warn(msg, DataConversionWarning)\n",
            "/usr/local/lib/python3.10/dist-packages/sklearn/metrics/pairwise.py:2025: DataConversionWarning: Data was converted to boolean for metric sokalmichener\n",
            "  warnings.warn(msg, DataConversionWarning)\n",
            "/usr/local/lib/python3.10/dist-packages/sklearn/metrics/pairwise.py:2025: DataConversionWarning: Data was converted to boolean for metric sokalmichener\n",
            "  warnings.warn(msg, DataConversionWarning)\n",
            "/usr/local/lib/python3.10/dist-packages/sklearn/metrics/pairwise.py:2025: DataConversionWarning: Data was converted to boolean for metric sokalsneath\n",
            "  warnings.warn(msg, DataConversionWarning)\n",
            "/usr/local/lib/python3.10/dist-packages/sklearn/metrics/pairwise.py:2025: DataConversionWarning: Data was converted to boolean for metric sokalsneath\n",
            "  warnings.warn(msg, DataConversionWarning)\n",
            "/usr/local/lib/python3.10/dist-packages/sklearn/metrics/pairwise.py:2025: DataConversionWarning: Data was converted to boolean for metric yule\n",
            "  warnings.warn(msg, DataConversionWarning)\n",
            "/usr/local/lib/python3.10/dist-packages/sklearn/metrics/pairwise.py:2025: DataConversionWarning: Data was converted to boolean for metric yule\n",
            "  warnings.warn(msg, DataConversionWarning)\n",
            "/usr/local/lib/python3.10/dist-packages/sklearn/metrics/pairwise.py:2025: DataConversionWarning: Data was converted to boolean for metric dice\n",
            "  warnings.warn(msg, DataConversionWarning)\n",
            "/usr/local/lib/python3.10/dist-packages/sklearn/metrics/pairwise.py:2025: DataConversionWarning: Data was converted to boolean for metric dice\n",
            "  warnings.warn(msg, DataConversionWarning)\n",
            "/usr/local/lib/python3.10/dist-packages/sklearn/metrics/pairwise.py:2025: DataConversionWarning: Data was converted to boolean for metric jaccard\n",
            "  warnings.warn(msg, DataConversionWarning)\n",
            "/usr/local/lib/python3.10/dist-packages/sklearn/metrics/pairwise.py:2025: DataConversionWarning: Data was converted to boolean for metric jaccard\n",
            "  warnings.warn(msg, DataConversionWarning)\n",
            "/usr/local/lib/python3.10/dist-packages/sklearn/metrics/pairwise.py:2025: DataConversionWarning: Data was converted to boolean for metric kulsinski\n",
            "  warnings.warn(msg, DataConversionWarning)\n",
            "/usr/local/lib/python3.10/dist-packages/sklearn/metrics/pairwise.py:2025: DataConversionWarning: Data was converted to boolean for metric matching\n",
            "  warnings.warn(msg, DataConversionWarning)\n",
            "/usr/local/lib/python3.10/dist-packages/sklearn/metrics/pairwise.py:2025: DataConversionWarning: Data was converted to boolean for metric matching\n",
            "  warnings.warn(msg, DataConversionWarning)\n",
            "/usr/local/lib/python3.10/dist-packages/sklearn/metrics/pairwise.py:2025: DataConversionWarning: Data was converted to boolean for metric rogerstanimoto\n",
            "  warnings.warn(msg, DataConversionWarning)\n",
            "/usr/local/lib/python3.10/dist-packages/sklearn/metrics/pairwise.py:2025: DataConversionWarning: Data was converted to boolean for metric rogerstanimoto\n",
            "  warnings.warn(msg, DataConversionWarning)\n",
            "/usr/local/lib/python3.10/dist-packages/sklearn/metrics/pairwise.py:2025: DataConversionWarning: Data was converted to boolean for metric russellrao\n",
            "  warnings.warn(msg, DataConversionWarning)\n",
            "/usr/local/lib/python3.10/dist-packages/sklearn/metrics/pairwise.py:2025: DataConversionWarning: Data was converted to boolean for metric russellrao\n",
            "  warnings.warn(msg, DataConversionWarning)\n",
            "/usr/local/lib/python3.10/dist-packages/sklearn/metrics/pairwise.py:2025: DataConversionWarning: Data was converted to boolean for metric sokalmichener\n",
            "  warnings.warn(msg, DataConversionWarning)\n",
            "/usr/local/lib/python3.10/dist-packages/sklearn/metrics/pairwise.py:2025: DataConversionWarning: Data was converted to boolean for metric sokalmichener\n",
            "  warnings.warn(msg, DataConversionWarning)\n",
            "/usr/local/lib/python3.10/dist-packages/sklearn/metrics/pairwise.py:2025: DataConversionWarning: Data was converted to boolean for metric sokalsneath\n",
            "  warnings.warn(msg, DataConversionWarning)\n",
            "/usr/local/lib/python3.10/dist-packages/sklearn/metrics/pairwise.py:2025: DataConversionWarning: Data was converted to boolean for metric sokalsneath\n",
            "  warnings.warn(msg, DataConversionWarning)\n",
            "/usr/local/lib/python3.10/dist-packages/sklearn/metrics/pairwise.py:2025: DataConversionWarning: Data was converted to boolean for metric yule\n",
            "  warnings.warn(msg, DataConversionWarning)\n",
            "/usr/local/lib/python3.10/dist-packages/sklearn/metrics/pairwise.py:2025: DataConversionWarning: Data was converted to boolean for metric yule\n",
            "  warnings.warn(msg, DataConversionWarning)\n",
            "/usr/local/lib/python3.10/dist-packages/sklearn/metrics/pairwise.py:2025: DataConversionWarning: Data was converted to boolean for metric dice\n",
            "  warnings.warn(msg, DataConversionWarning)\n",
            "/usr/local/lib/python3.10/dist-packages/sklearn/metrics/pairwise.py:2025: DataConversionWarning: Data was converted to boolean for metric dice\n",
            "  warnings.warn(msg, DataConversionWarning)\n",
            "/usr/local/lib/python3.10/dist-packages/sklearn/metrics/pairwise.py:2025: DataConversionWarning: Data was converted to boolean for metric jaccard\n",
            "  warnings.warn(msg, DataConversionWarning)\n",
            "/usr/local/lib/python3.10/dist-packages/sklearn/metrics/pairwise.py:2025: DataConversionWarning: Data was converted to boolean for metric jaccard\n",
            "  warnings.warn(msg, DataConversionWarning)\n",
            "/usr/local/lib/python3.10/dist-packages/sklearn/metrics/pairwise.py:2025: DataConversionWarning: Data was converted to boolean for metric kulsinski\n",
            "  warnings.warn(msg, DataConversionWarning)\n",
            "/usr/local/lib/python3.10/dist-packages/sklearn/metrics/pairwise.py:2025: DataConversionWarning: Data was converted to boolean for metric matching\n",
            "  warnings.warn(msg, DataConversionWarning)\n",
            "/usr/local/lib/python3.10/dist-packages/sklearn/metrics/pairwise.py:2025: DataConversionWarning: Data was converted to boolean for metric matching\n",
            "  warnings.warn(msg, DataConversionWarning)\n",
            "/usr/local/lib/python3.10/dist-packages/sklearn/metrics/pairwise.py:2025: DataConversionWarning: Data was converted to boolean for metric rogerstanimoto\n",
            "  warnings.warn(msg, DataConversionWarning)\n",
            "/usr/local/lib/python3.10/dist-packages/sklearn/metrics/pairwise.py:2025: DataConversionWarning: Data was converted to boolean for metric rogerstanimoto\n",
            "  warnings.warn(msg, DataConversionWarning)\n",
            "/usr/local/lib/python3.10/dist-packages/sklearn/metrics/pairwise.py:2025: DataConversionWarning: Data was converted to boolean for metric russellrao\n",
            "  warnings.warn(msg, DataConversionWarning)\n",
            "/usr/local/lib/python3.10/dist-packages/sklearn/metrics/pairwise.py:2025: DataConversionWarning: Data was converted to boolean for metric russellrao\n",
            "  warnings.warn(msg, DataConversionWarning)\n",
            "/usr/local/lib/python3.10/dist-packages/sklearn/metrics/pairwise.py:2025: DataConversionWarning: Data was converted to boolean for metric sokalmichener\n",
            "  warnings.warn(msg, DataConversionWarning)\n",
            "/usr/local/lib/python3.10/dist-packages/sklearn/metrics/pairwise.py:2025: DataConversionWarning: Data was converted to boolean for metric sokalmichener\n",
            "  warnings.warn(msg, DataConversionWarning)\n",
            "/usr/local/lib/python3.10/dist-packages/sklearn/metrics/pairwise.py:2025: DataConversionWarning: Data was converted to boolean for metric sokalsneath\n",
            "  warnings.warn(msg, DataConversionWarning)\n",
            "/usr/local/lib/python3.10/dist-packages/sklearn/metrics/pairwise.py:2025: DataConversionWarning: Data was converted to boolean for metric sokalsneath\n",
            "  warnings.warn(msg, DataConversionWarning)\n",
            "/usr/local/lib/python3.10/dist-packages/sklearn/metrics/pairwise.py:2025: DataConversionWarning: Data was converted to boolean for metric yule\n",
            "  warnings.warn(msg, DataConversionWarning)\n",
            "/usr/local/lib/python3.10/dist-packages/sklearn/metrics/pairwise.py:2025: DataConversionWarning: Data was converted to boolean for metric yule\n",
            "  warnings.warn(msg, DataConversionWarning)\n",
            "/usr/local/lib/python3.10/dist-packages/sklearn/metrics/pairwise.py:2025: DataConversionWarning: Data was converted to boolean for metric dice\n",
            "  warnings.warn(msg, DataConversionWarning)\n",
            "/usr/local/lib/python3.10/dist-packages/sklearn/metrics/pairwise.py:2025: DataConversionWarning: Data was converted to boolean for metric dice\n",
            "  warnings.warn(msg, DataConversionWarning)\n",
            "/usr/local/lib/python3.10/dist-packages/sklearn/metrics/pairwise.py:2025: DataConversionWarning: Data was converted to boolean for metric jaccard\n",
            "  warnings.warn(msg, DataConversionWarning)\n",
            "/usr/local/lib/python3.10/dist-packages/sklearn/metrics/pairwise.py:2025: DataConversionWarning: Data was converted to boolean for metric jaccard\n",
            "  warnings.warn(msg, DataConversionWarning)\n",
            "/usr/local/lib/python3.10/dist-packages/sklearn/metrics/pairwise.py:2025: DataConversionWarning: Data was converted to boolean for metric kulsinski\n",
            "  warnings.warn(msg, DataConversionWarning)\n",
            "/usr/local/lib/python3.10/dist-packages/sklearn/metrics/pairwise.py:2025: DataConversionWarning: Data was converted to boolean for metric matching\n",
            "  warnings.warn(msg, DataConversionWarning)\n",
            "/usr/local/lib/python3.10/dist-packages/sklearn/metrics/pairwise.py:2025: DataConversionWarning: Data was converted to boolean for metric matching\n",
            "  warnings.warn(msg, DataConversionWarning)\n",
            "/usr/local/lib/python3.10/dist-packages/sklearn/metrics/pairwise.py:2025: DataConversionWarning: Data was converted to boolean for metric rogerstanimoto\n",
            "  warnings.warn(msg, DataConversionWarning)\n",
            "/usr/local/lib/python3.10/dist-packages/sklearn/metrics/pairwise.py:2025: DataConversionWarning: Data was converted to boolean for metric rogerstanimoto\n",
            "  warnings.warn(msg, DataConversionWarning)\n",
            "/usr/local/lib/python3.10/dist-packages/sklearn/metrics/pairwise.py:2025: DataConversionWarning: Data was converted to boolean for metric russellrao\n",
            "  warnings.warn(msg, DataConversionWarning)\n",
            "/usr/local/lib/python3.10/dist-packages/sklearn/metrics/pairwise.py:2025: DataConversionWarning: Data was converted to boolean for metric russellrao\n",
            "  warnings.warn(msg, DataConversionWarning)\n",
            "/usr/local/lib/python3.10/dist-packages/sklearn/metrics/pairwise.py:2025: DataConversionWarning: Data was converted to boolean for metric sokalmichener\n",
            "  warnings.warn(msg, DataConversionWarning)\n",
            "/usr/local/lib/python3.10/dist-packages/sklearn/metrics/pairwise.py:2025: DataConversionWarning: Data was converted to boolean for metric sokalmichener\n",
            "  warnings.warn(msg, DataConversionWarning)\n",
            "/usr/local/lib/python3.10/dist-packages/sklearn/metrics/pairwise.py:2025: DataConversionWarning: Data was converted to boolean for metric sokalsneath\n",
            "  warnings.warn(msg, DataConversionWarning)\n",
            "/usr/local/lib/python3.10/dist-packages/sklearn/metrics/pairwise.py:2025: DataConversionWarning: Data was converted to boolean for metric sokalsneath\n",
            "  warnings.warn(msg, DataConversionWarning)\n",
            "/usr/local/lib/python3.10/dist-packages/sklearn/metrics/pairwise.py:2025: DataConversionWarning: Data was converted to boolean for metric yule\n",
            "  warnings.warn(msg, DataConversionWarning)\n",
            "/usr/local/lib/python3.10/dist-packages/sklearn/metrics/pairwise.py:2025: DataConversionWarning: Data was converted to boolean for metric yule\n",
            "  warnings.warn(msg, DataConversionWarning)\n",
            "/usr/local/lib/python3.10/dist-packages/sklearn/metrics/pairwise.py:2025: DataConversionWarning: Data was converted to boolean for metric dice\n",
            "  warnings.warn(msg, DataConversionWarning)\n",
            "/usr/local/lib/python3.10/dist-packages/sklearn/metrics/pairwise.py:2025: DataConversionWarning: Data was converted to boolean for metric dice\n",
            "  warnings.warn(msg, DataConversionWarning)\n",
            "/usr/local/lib/python3.10/dist-packages/sklearn/metrics/pairwise.py:2025: DataConversionWarning: Data was converted to boolean for metric jaccard\n",
            "  warnings.warn(msg, DataConversionWarning)\n",
            "/usr/local/lib/python3.10/dist-packages/sklearn/metrics/pairwise.py:2025: DataConversionWarning: Data was converted to boolean for metric jaccard\n",
            "  warnings.warn(msg, DataConversionWarning)\n",
            "/usr/local/lib/python3.10/dist-packages/sklearn/metrics/pairwise.py:2025: DataConversionWarning: Data was converted to boolean for metric kulsinski\n",
            "  warnings.warn(msg, DataConversionWarning)\n"
          ]
        },
        {
          "output_type": "stream",
          "name": "stdout",
          "text": [
            "Best Training Accuracy: 0.9354838709677419, Parameters: {'n_neighbors': 3, 'metric': 'hamming'}\n",
            "Best Test Accuracy: 0.875, Parameters: {'n_neighbors': 7, 'metric': 'chebyshev'}\n"
          ]
        },
        {
          "output_type": "stream",
          "name": "stderr",
          "text": [
            "/usr/local/lib/python3.10/dist-packages/sklearn/metrics/pairwise.py:2025: DataConversionWarning: Data was converted to boolean for metric matching\n",
            "  warnings.warn(msg, DataConversionWarning)\n",
            "/usr/local/lib/python3.10/dist-packages/sklearn/metrics/pairwise.py:2025: DataConversionWarning: Data was converted to boolean for metric matching\n",
            "  warnings.warn(msg, DataConversionWarning)\n",
            "/usr/local/lib/python3.10/dist-packages/sklearn/metrics/pairwise.py:2025: DataConversionWarning: Data was converted to boolean for metric rogerstanimoto\n",
            "  warnings.warn(msg, DataConversionWarning)\n",
            "/usr/local/lib/python3.10/dist-packages/sklearn/metrics/pairwise.py:2025: DataConversionWarning: Data was converted to boolean for metric rogerstanimoto\n",
            "  warnings.warn(msg, DataConversionWarning)\n",
            "/usr/local/lib/python3.10/dist-packages/sklearn/metrics/pairwise.py:2025: DataConversionWarning: Data was converted to boolean for metric russellrao\n",
            "  warnings.warn(msg, DataConversionWarning)\n",
            "/usr/local/lib/python3.10/dist-packages/sklearn/metrics/pairwise.py:2025: DataConversionWarning: Data was converted to boolean for metric russellrao\n",
            "  warnings.warn(msg, DataConversionWarning)\n",
            "/usr/local/lib/python3.10/dist-packages/sklearn/metrics/pairwise.py:2025: DataConversionWarning: Data was converted to boolean for metric sokalmichener\n",
            "  warnings.warn(msg, DataConversionWarning)\n",
            "/usr/local/lib/python3.10/dist-packages/sklearn/metrics/pairwise.py:2025: DataConversionWarning: Data was converted to boolean for metric sokalmichener\n",
            "  warnings.warn(msg, DataConversionWarning)\n",
            "/usr/local/lib/python3.10/dist-packages/sklearn/metrics/pairwise.py:2025: DataConversionWarning: Data was converted to boolean for metric sokalsneath\n",
            "  warnings.warn(msg, DataConversionWarning)\n",
            "/usr/local/lib/python3.10/dist-packages/sklearn/metrics/pairwise.py:2025: DataConversionWarning: Data was converted to boolean for metric sokalsneath\n",
            "  warnings.warn(msg, DataConversionWarning)\n",
            "/usr/local/lib/python3.10/dist-packages/sklearn/metrics/pairwise.py:2025: DataConversionWarning: Data was converted to boolean for metric yule\n",
            "  warnings.warn(msg, DataConversionWarning)\n",
            "/usr/local/lib/python3.10/dist-packages/sklearn/metrics/pairwise.py:2025: DataConversionWarning: Data was converted to boolean for metric yule\n",
            "  warnings.warn(msg, DataConversionWarning)\n"
          ]
        }
      ]
    },
    {
      "cell_type": "markdown",
      "source": [
        "Best Training Accuracy: 0.9354838709677419, Parameters: {'n_neighbors': 3, 'metric': 'hamming'}\n",
        "Best Test Accuracy: 0.875, Parameters: {'n_neighbors': 7, 'metric': 'chebyshev'}"
      ],
      "metadata": {
        "id": "oUNzDAmBhmy2"
      }
    },
    {
      "cell_type": "markdown",
      "source": [
        "1)What is the maximum obtained accuracy on the test set? What are the parameter values\n",
        "(number of neighbors and distance metric) associated with this accuracy?\n",
        "\n",
        "\n",
        "The maximum obtained accuracy on the test set is 87.5%.\n",
        "The parameters associated with this accuracy are 7 neighbors and the 'chebyshev' distance metric."
      ],
      "metadata": {
        "id": "gtSOZotnhyH1"
      }
    },
    {
      "cell_type": "markdown",
      "source": [
        "2)What is the maximum obtained accuracy on the training set? What are the parameter\n",
        "values associated with this accuracy?\n",
        "\n",
        "The maximum obtained accuracy on the training set is 93.54838709677419%.\n",
        "The parameters associated with this accuracy are 3 neighbors and the 'hamming' distance metric."
      ],
      "metadata": {
        "id": "Wa1j-Rv8h8B7"
      }
    },
    {
      "cell_type": "markdown",
      "source": [
        "3)Are the parameter values achieving maximum accuracy the same for the training and test\n",
        "sets?\n",
        "\n",
        "No, the parameter values achieving maximum accuracy are not the same for the training and test sets. For the training set, the best parameters were 3 neighbors with the 'hamming' metric, while for the test set, the best parameters were 7 neighbors with the 'chebyshev' metric."
      ],
      "metadata": {
        "id": "gK8E2vcdiD0b"
      }
    },
    {
      "cell_type": "markdown",
      "source": [
        "4)If no, what does this tell you about the classification performance of the KNN classifier?\n",
        "\n",
        "The difference in parameter values leading to maximum accuracy on the training vs. test sets suggests that the optimal configuration of the KNN classifier can vary depending on the dataset (or subset of the dataset) being considered. Specifically:\n",
        "The 'hamming' distance metric with fewer neighbors (3) was more effective for the training set, possibly because it fits the training data more closely.\n",
        "For the test set, a larger number of neighbors (7) and the 'chebyshev' metric yielded better accuracy, which might indicate a more generalized model that performs better on unseen data.\n",
        "This discrepancy can also indicate the model's sensitivity to the choice of parameters and the potential for overfitting with certain configurations. Using a higher number of neighbors and a different metric for the test set suggests that a more generalized approach (less sensitive to the noise in the training data) is beneficial for model performance on unseen data.\n",
        "It highlights the importance of parameter tuning and validation techniques (like cross-validation) to find a balance between fitting the training data well and maintaining good performance on unseen data, thereby improving the model's generalization ability.\n",
        "\n",
        "\n",
        "\n",
        "\n"
      ],
      "metadata": {
        "id": "CaOO4ikpiJ-K"
      }
    },
    {
      "cell_type": "code",
      "source": [],
      "metadata": {
        "id": "e_D0a1JPh3Ms"
      },
      "execution_count": null,
      "outputs": []
    }
  ]
}